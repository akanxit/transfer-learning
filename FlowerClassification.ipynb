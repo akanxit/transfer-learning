{
  "nbformat": 4,
  "nbformat_minor": 0,
  "metadata": {
    "colab": {
      "name": "NT_Assignment1.ipynb",
      "version": "0.3.2",
      "provenance": [],
      "collapsed_sections": [],
      "machine_shape": "hm"
    },
    "kernelspec": {
      "name": "python3",
      "display_name": "Python 3"
    },
    "accelerator": "GPU"
  },
  "cells": [
    {
      "cell_type": "code",
      "metadata": {
        "id": "0t2115kBFUdp",
        "colab_type": "code",
        "outputId": "8e5e305b-09e3-46e1-84c5-ef8b8731afc1",
        "colab": {
          "base_uri": "https://localhost:8080/",
          "height": 102
        }
      },
      "source": [
        "try:\n",
        "  %tensorflow_version 1.x  # Colab only.\n",
        "except Exception:\n",
        "  pass"
      ],
      "execution_count": 0,
      "outputs": [
        {
          "output_type": "stream",
          "text": [
            "`%tensorflow_version` only switches the major version: `1.x` or `2.x`.\n",
            "You set: `1.x  # Colab only.`. This will be interpreted as: `1.x`.\n",
            "\n",
            "\n",
            "TensorFlow 1.x selected.\n"
          ],
          "name": "stdout"
        }
      ]
    },
    {
      "cell_type": "code",
      "metadata": {
        "id": "UeKfuQox2MpD",
        "colab_type": "code",
        "outputId": "24e54b27-2203-446d-896e-3191a225a752",
        "colab": {
          "base_uri": "https://localhost:8080/",
          "height": 51
        }
      },
      "source": [
        "import tensorflow as tf\n",
        "import pandas as pd\n",
        "import os\n",
        "import zipfile\n",
        "import numpy as np\n",
        "import cv2\n",
        "import tqdm\n",
        "from keras.utils import np_utils\n",
        "from keras import backend as K\n",
        "from keras.callbacks import ModelCheckpoint\n",
        "from keras.callbacks import TensorBoard\n",
        "from keras.callbacks import EarlyStopping\n",
        "import h5py\n",
        "print('using tensorflow version',tf.__version__)\n",
        "from time import time\n"
      ],
      "execution_count": 0,
      "outputs": [
        {
          "output_type": "stream",
          "text": [
            "using tensorflow version 1.14.0\n"
          ],
          "name": "stdout"
        },
        {
          "output_type": "stream",
          "text": [
            "Using TensorFlow backend.\n"
          ],
          "name": "stderr"
        }
      ]
    },
    {
      "cell_type": "markdown",
      "metadata": {
        "id": "y6342wFWurze",
        "colab_type": "text"
      },
      "source": [
        "**Download  and extract data**"
      ]
    },
    {
      "cell_type": "code",
      "metadata": {
        "id": "p3A_Ra75Fezn",
        "colab_type": "code",
        "outputId": "a60db093-64d4-47be-c0cc-abf75e88ca6f",
        "colab": {
          "base_uri": "https://localhost:8080/",
          "height": 224
        }
      },
      "source": [
        "!wget --no-check-certificate https://he-public-data.s3-ap-southeast-1.amazonaws.com/HE_Challenge_data.zip -O /tmp/HE_Challenge_data.zip"
      ],
      "execution_count": 0,
      "outputs": [
        {
          "output_type": "stream",
          "text": [
            "--2019-08-13 06:16:58--  https://he-public-data.s3-ap-southeast-1.amazonaws.com/HE_Challenge_data.zip\n",
            "Resolving he-public-data.s3-ap-southeast-1.amazonaws.com (he-public-data.s3-ap-southeast-1.amazonaws.com)... 52.219.40.7\n",
            "Connecting to he-public-data.s3-ap-southeast-1.amazonaws.com (he-public-data.s3-ap-southeast-1.amazonaws.com)|52.219.40.7|:443... connected.\n",
            "HTTP request sent, awaiting response... 200 OK\n",
            "Length: 948965311 (905M) [application/zip]\n",
            "Saving to: ‘/tmp/HE_Challenge_data.zip’\n",
            "\n",
            "/tmp/HE_Challenge_d 100%[===================>] 905.00M  8.31MB/s    in 1m 59s  \n",
            "\n",
            "2019-08-13 06:18:57 (7.63 MB/s) - ‘/tmp/HE_Challenge_data.zip’ saved [948965311/948965311]\n",
            "\n"
          ],
          "name": "stdout"
        }
      ]
    },
    {
      "cell_type": "code",
      "metadata": {
        "id": "77PnWXRUGGif",
        "colab_type": "code",
        "colab": {}
      },
      "source": [
        "local_zip = '//tmp/HE_Challenge_data.zip'\n",
        "zip_ref = zipfile.ZipFile(local_zip, 'r')\n",
        "zip_ref.extractall('/tmp/flower_data')\n",
        "zip_ref.close()"
      ],
      "execution_count": 0,
      "outputs": []
    },
    {
      "cell_type": "markdown",
      "metadata": {
        "id": "-1eupIQTvOAN",
        "colab_type": "text"
      },
      "source": [
        "**Variables to be used in code**"
      ]
    },
    {
      "cell_type": "code",
      "metadata": {
        "id": "sTDTOC4UGfm-",
        "colab_type": "code",
        "outputId": "13295228-1113-4d8f-fecf-7a293e85cc95",
        "colab": {
          "base_uri": "https://localhost:8080/",
          "height": 34
        }
      },
      "source": [
        "data_dir = '/tmp/flower_data/data'\n",
        "# os.listdir(data_dir)\n",
        "train_dir = os.path.join(data_dir, 'train')\n",
        "# os.listdir(train_dir)\n",
        "test_dir = os.path.join(data_dir, 'test')\n",
        "# os.listdir(test_dir)\n",
        "train_csv = os.path.join(data_dir, 'train.csv')\n",
        "test_csv = os.path.join(data_dir, 'test.csv')\n",
        "submission_csv =  os.path.join(data_dir, 'sample_submission.csv')\n",
        "#Save model checkpoints\n",
        "model_dir=\"/tmp/flower_data/models\"\n",
        "#catc exeption and move on if file already exists\n",
        "try: \n",
        "    os.mkdir(model_dir) \n",
        "except OSError as error: \n",
        "    print(error)  "
      ],
      "execution_count": 0,
      "outputs": [
        {
          "output_type": "stream",
          "text": [
            "[Errno 17] File exists: '/tmp/flower_data/models'\n"
          ],
          "name": "stdout"
        }
      ]
    },
    {
      "cell_type": "code",
      "metadata": {
        "id": "ty-lfzzur-go",
        "colab_type": "code",
        "colab": {}
      },
      "source": [
        "#for using tensorlow backend with keras\n",
        "K.set_image_data_format('channels_last')\n",
        "IMG_WIDTH = 224\n",
        "IMG_HEIGHT = 224\n",
        "CHANNELS = 3\n",
        "INPUT_SHAPE = (IMG_WIDTH, IMG_HEIGHT, CHANNELS)\n",
        "NUM_CLASSES = 102\n",
        "modelpath = os.path.join(model_dir,\"final_model.hdf5\")\n",
        "EPOCHS=30"
      ],
      "execution_count": 0,
      "outputs": []
    },
    {
      "cell_type": "markdown",
      "metadata": {
        "id": "SZBUk4iWZAxu",
        "colab_type": "text"
      },
      "source": [
        "**Creating  a separate validation data with every tenth image and correponding label**\n",
        "\n",
        "\n"
      ]
    },
    {
      "cell_type": "code",
      "metadata": {
        "id": "p6p_zA7BNpsx",
        "colab_type": "code",
        "outputId": "a8876eb9-f412-4f99-b578-138f389e3931",
        "colab": {
          "base_uri": "https://localhost:8080/",
          "height": 68
        }
      },
      "source": [
        "\n",
        "\n",
        "#train_fnames -> filenames of training data\n",
        "#val_fnames -> filenames of validation data\n",
        "\n",
        "train_data = pd.read_csv(train_csv)\n",
        "train_fnames = train_data['image_id']\n",
        "print ('Total Images -> ',len(train_fnames))\n",
        "val_fnames = train_fnames[::10]\n",
        "val_fnames = list(val_fnames)\n",
        "train_fnames = list(train_fnames)\n",
        "del train_fnames[0::10]\n",
        "print('Total training images: ',len(train_fnames))\n",
        "print('Total validation images: ',len(val_fnames))\n",
        "\n",
        "#train_labels -> list of labels for training\n",
        "#val_labels -> list of labels for validation\n",
        "train_labels = train_data['category']\n",
        "val_labels = train_labels[::10]\n",
        "val_labels = list(val_labels)\n",
        "train_labels = list(train_labels)\n",
        "del train_labels[0::10]\n",
        "# print(len(val_fnames))\n",
        "# print(len(train_fnames))\n"
      ],
      "execution_count": 0,
      "outputs": [
        {
          "output_type": "stream",
          "text": [
            "Total Images ->  18540\n",
            "Total training images:  16686\n",
            "Total validation images:  1854\n"
          ],
          "name": "stdout"
        }
      ]
    },
    {
      "cell_type": "markdown",
      "metadata": {
        "id": "eHG7xCX7wSWq",
        "colab_type": "text"
      },
      "source": [
        "**Functions for data creation**"
      ]
    },
    {
      "cell_type": "code",
      "metadata": {
        "id": "PRY1cuFccipO",
        "colab_type": "code",
        "colab": {}
      },
      "source": [
        "\n",
        "def create_filepaths(base_path,filenames):\n",
        "  filepaths=[]\n",
        "  for filename in  filenames:\n",
        "    filepath = os.path.join(base_path,str(filename)+'.jpg')\n",
        "    filepaths.append(filepath)\n",
        "  return filepaths\n",
        "\n",
        "def read_data(filepaths,labels):\n",
        "    \n",
        "    N_total = len(filepaths)\n",
        "    X = np.zeros((N_total,) + INPUT_SHAPE)\n",
        "    y = np.zeros((N_total,))\n",
        "    for i in range(len(filepaths)):\n",
        "        img=cv2.imread(filepaths[i])\n",
        "        img = cv2.resize(img,(IMG_WIDTH,IMG_HEIGHT))\n",
        "        img = img *1.0/255\n",
        "        X[i,:,:,:] = img\n",
        "        #Since the labels here are from 1 to 102 but to categorical requires 0-101\n",
        "        y[i] = int(labels[i]) - 1\n",
        "        Y = np_utils.to_categorical(y,NUM_CLASSES)\n",
        "    return (X,Y)\n",
        "    "
      ],
      "execution_count": 0,
      "outputs": []
    },
    {
      "cell_type": "code",
      "metadata": {
        "id": "BbTVXOhSid2c",
        "colab_type": "code",
        "outputId": "f879f048-b738-44fd-ba4f-d7a7fdae9022",
        "colab": {
          "base_uri": "https://localhost:8080/",
          "height": 34
        }
      },
      "source": [
        "#Read image files for training\n",
        "train_filepaths = create_filepaths(train_dir,train_fnames)\n",
        "print (len(train_filepaths))\n"
      ],
      "execution_count": 0,
      "outputs": [
        {
          "output_type": "stream",
          "text": [
            "16686\n"
          ],
          "name": "stdout"
        }
      ]
    },
    {
      "cell_type": "code",
      "metadata": {
        "id": "d91B-Vlrjkk5",
        "colab_type": "code",
        "colab": {}
      },
      "source": [
        "#Read image files for  validation\n",
        "val_filepaths = create_filepaths(train_dir,val_fnames)\n",
        "# print (val_filepaths)"
      ],
      "execution_count": 0,
      "outputs": []
    },
    {
      "cell_type": "markdown",
      "metadata": {
        "id": "vubyQlStv_Mt",
        "colab_type": "text"
      },
      "source": [
        "\n",
        "Display 1 image to see how data looks like\n"
      ]
    },
    {
      "cell_type": "code",
      "metadata": {
        "id": "mSVvZydjtcBY",
        "colab_type": "code",
        "outputId": "d20f7879-42b2-4044-f433-e7dbe80c42d3",
        "colab": {
          "base_uri": "https://localhost:8080/",
          "height": 286
        }
      },
      "source": [
        "#Display an image to test \n",
        "import matplotlib.pyplot as plt\n",
        "img=cv2.imread(train_filepaths[0])\n",
        "img = img *1.0/255\n",
        "img = cv2.resize(img,(IMG_WIDTH,IMG_HEIGHT))\n",
        "print(img.shape)\n",
        "plt.imshow(img)\n",
        "plt.show()\n"
      ],
      "execution_count": 0,
      "outputs": [
        {
          "output_type": "stream",
          "text": [
            "(224, 224, 3)\n"
          ],
          "name": "stdout"
        },
        {
          "output_type": "display_data",
          "data": {
            "image/png": "[encoded data removed]",
            "text/plain": [
              "<Figure size 432x288 with 1 Axes>"
            ]
          },
          "metadata": {
            "tags": []
          }
        }
      ]
    },
    {
      "cell_type": "markdown",
      "metadata": {
        "id": "A8mtXlRfwqiq",
        "colab_type": "text"
      },
      "source": [
        "**Create training and validation Data **"
      ]
    },
    {
      "cell_type": "code",
      "metadata": {
        "id": "BB29zDNwwjnD",
        "colab_type": "code",
        "colab": {}
      },
      "source": [
        "#Return training image tensors\n",
        "X_train,Y_train = read_data(train_filepaths,train_labels)"
      ],
      "execution_count": 0,
      "outputs": []
    },
    {
      "cell_type": "code",
      "metadata": {
        "id": "Dgo1_4cv_saz",
        "colab_type": "code",
        "colab": {}
      },
      "source": [
        "X_val, Y_val = read_data(val_filepaths,val_labels)"
      ],
      "execution_count": 0,
      "outputs": []
    },
    {
      "cell_type": "code",
      "metadata": {
        "id": "5K0qnzCaACwW",
        "colab_type": "code",
        "outputId": "a154e475-6041-412b-946a-0989147ae457",
        "colab": {
          "base_uri": "https://localhost:8080/",
          "height": 85
        }
      },
      "source": [
        "print(X_train.shape)\n",
        "print(Y_train.shape)\n",
        "print(X_val.shape)\n",
        "print(Y_val.shape)"
      ],
      "execution_count": 0,
      "outputs": [
        {
          "output_type": "stream",
          "text": [
            "(16686, 224, 224, 3)\n",
            "(16686, 102)\n",
            "(1854, 224, 224, 3)\n",
            "(1854, 102)\n"
          ],
          "name": "stdout"
        }
      ]
    },
    {
      "cell_type": "markdown",
      "metadata": {
        "id": "KIzCTHd_wzmt",
        "colab_type": "text"
      },
      "source": [
        "**Create Model for Training**"
      ]
    },
    {
      "cell_type": "markdown",
      "metadata": {
        "id": "l8ehr_36szeM",
        "colab_type": "text"
      },
      "source": [
        "**Trying Transfer learning**"
      ]
    },
    {
      "cell_type": "code",
      "metadata": {
        "id": "JgMBVyyOs3dT",
        "colab_type": "code",
        "outputId": "f43e118d-4f74-472f-d7f6-4400952b26fe",
        "colab": {
          "base_uri": "https://localhost:8080/",
          "height": 1000
        }
      },
      "source": [
        "# Import the inception model  \n",
        "from tensorflow.keras.applications.inception_v3 import InceptionV3\n",
        "\n",
        "# Create an instance of the inception model from the local pre-trained weights\n",
        "# local_weights_file = '/tmp/inception_v3_weights_tf_dim_ordering_tf_kernels_notop.h5'\n",
        "\n",
        "# base_model = InceptionV3(input_shape = (224, 224, 3), \n",
        "#                                 include_top = False, \n",
        "#                                 weights = 'imagenet')\n",
        "base_model = tf.keras.applications.VGG19(weights = \"imagenet\", include_top=False, input_shape = (IMG_WIDTH, IMG_HEIGHT, 3))\n",
        "\n",
        "\n",
        "# pre_trained_model.load_weights(local_weights_file)\n",
        "x = base_model.output\n",
        "x = tf.keras.layers.GlobalAveragePooling2D()(x)\n",
        "x = tf.keras.layers.Dense(1024, activation='relu')(x)\n",
        "outputs = tf.keras.layers.Dense(102, activation='softmax')(x)\n",
        "\n",
        "model = tf.keras.models.Model(inputs=base_model.input, outputs=outputs)\n",
        "\n",
        "# first: train only the top layers (which were randomly initialized)\n",
        "# i.e. freeze all convolutional InceptionV3 layers\n",
        "for layer in base_model.layers:\n",
        "    layer.trainable = False\n",
        "    \n",
        "model.compile(optimizer='RMSprop', loss='categorical_crossentropy',metrics=['accuracy'])\n",
        "\n",
        "model.summary()"
      ],
      "execution_count": 0,
      "outputs": [
        {
          "output_type": "stream",
          "text": [
            "WARNING: Logging before flag parsing goes to stderr.\n",
            "W0813 06:21:00.060854 140269634074496 deprecation.py:506] From /usr/local/lib/python3.6/dist-packages/tensorflow/python/ops/init_ops.py:1251: calling VarianceScaling.__init__ (from tensorflow.python.ops.init_ops) with dtype is deprecated and will be removed in a future version.\n",
            "Instructions for updating:\n",
            "Call initializer instance with the dtype argument instead of passing it to the constructor\n"
          ],
          "name": "stderr"
        },
        {
          "output_type": "stream",
          "text": [
            "Model: \"model\"\n",
            "_________________________________________________________________\n",
            "Layer (type)                 Output Shape              Param #   \n",
            "=================================================================\n",
            "input_1 (InputLayer)         [(None, 224, 224, 3)]     0         \n",
            "_________________________________________________________________\n",
            "block1_conv1 (Conv2D)        (None, 224, 224, 64)      1792      \n",
            "_________________________________________________________________\n",
            "block1_conv2 (Conv2D)        (None, 224, 224, 64)      36928     \n",
            "_________________________________________________________________\n",
            "block1_pool (MaxPooling2D)   (None, 112, 112, 64)      0         \n",
            "_________________________________________________________________\n",
            "block2_conv1 (Conv2D)        (None, 112, 112, 128)     73856     \n",
            "_________________________________________________________________\n",
            "block2_conv2 (Conv2D)        (None, 112, 112, 128)     147584    \n",
            "_________________________________________________________________\n",
            "block2_pool (MaxPooling2D)   (None, 56, 56, 128)       0         \n",
            "_________________________________________________________________\n",
            "block3_conv1 (Conv2D)        (None, 56, 56, 256)       295168    \n",
            "_________________________________________________________________\n",
            "block3_conv2 (Conv2D)        (None, 56, 56, 256)       590080    \n",
            "_________________________________________________________________\n",
            "block3_conv3 (Conv2D)        (None, 56, 56, 256)       590080    \n",
            "_________________________________________________________________\n",
            "block3_conv4 (Conv2D)        (None, 56, 56, 256)       590080    \n",
            "_________________________________________________________________\n",
            "block3_pool (MaxPooling2D)   (None, 28, 28, 256)       0         \n",
            "_________________________________________________________________\n",
            "block4_conv1 (Conv2D)        (None, 28, 28, 512)       1180160   \n",
            "_________________________________________________________________\n",
            "block4_conv2 (Conv2D)        (None, 28, 28, 512)       2359808   \n",
            "_________________________________________________________________\n",
            "block4_conv3 (Conv2D)        (None, 28, 28, 512)       2359808   \n",
            "_________________________________________________________________\n",
            "block4_conv4 (Conv2D)        (None, 28, 28, 512)       2359808   \n",
            "_________________________________________________________________\n",
            "block4_pool (MaxPooling2D)   (None, 14, 14, 512)       0         \n",
            "_________________________________________________________________\n",
            "block5_conv1 (Conv2D)        (None, 14, 14, 512)       2359808   \n",
            "_________________________________________________________________\n",
            "block5_conv2 (Conv2D)        (None, 14, 14, 512)       2359808   \n",
            "_________________________________________________________________\n",
            "block5_conv3 (Conv2D)        (None, 14, 14, 512)       2359808   \n",
            "_________________________________________________________________\n",
            "block5_conv4 (Conv2D)        (None, 14, 14, 512)       2359808   \n",
            "_________________________________________________________________\n",
            "block5_pool (MaxPooling2D)   (None, 7, 7, 512)         0         \n",
            "_________________________________________________________________\n",
            "global_average_pooling2d (Gl (None, 512)               0         \n",
            "_________________________________________________________________\n",
            "dense (Dense)                (None, 1024)              525312    \n",
            "_________________________________________________________________\n",
            "dense_1 (Dense)              (None, 102)               104550    \n",
            "=================================================================\n",
            "Total params: 20,654,246\n",
            "Trainable params: 629,862\n",
            "Non-trainable params: 20,024,384\n",
            "_________________________________________________________________\n"
          ],
          "name": "stdout"
        }
      ]
    },
    {
      "cell_type": "code",
      "metadata": {
        "id": "ZZW4Arzvuouc",
        "colab_type": "code",
        "outputId": "451a6e44-fdc1-4d8d-be94-73a916547a41",
        "colab": {
          "base_uri": "https://localhost:8080/",
          "height": 391
        }
      },
      "source": [
        "#  layer names with layer indices in base model\n",
        "for i, layer in enumerate(base_model.layers):\n",
        "   print(i, layer.name)"
      ],
      "execution_count": 0,
      "outputs": [
        {
          "output_type": "stream",
          "text": [
            "0 input_1\n",
            "1 block1_conv1\n",
            "2 block1_conv2\n",
            "3 block1_pool\n",
            "4 block2_conv1\n",
            "5 block2_conv2\n",
            "6 block2_pool\n",
            "7 block3_conv1\n",
            "8 block3_conv2\n",
            "9 block3_conv3\n",
            "10 block3_conv4\n",
            "11 block3_pool\n",
            "12 block4_conv1\n",
            "13 block4_conv2\n",
            "14 block4_conv3\n",
            "15 block4_conv4\n",
            "16 block4_pool\n",
            "17 block5_conv1\n",
            "18 block5_conv2\n",
            "19 block5_conv3\n",
            "20 block5_conv4\n",
            "21 block5_pool\n"
          ],
          "name": "stdout"
        }
      ]
    },
    {
      "cell_type": "code",
      "metadata": {
        "id": "Sji-aQv5qQ7U",
        "colab_type": "code",
        "colab": {}
      },
      "source": [
        "\n",
        "        \n",
        "def lr_schedule(epoch):\n",
        "  \"\"\"\n",
        "  Returns a custom learning rate that decreases as epochs progress.\n",
        "  \"\"\"\n",
        "  learning_rate = 0.2\n",
        "  if epoch > 10:\n",
        "    learning_rate = 0.02\n",
        "  if epoch > 20:\n",
        "    learning_rate = 0.001\n",
        "  if epoch > 50:\n",
        "    learning_rate = 0.001\n",
        "  tf.summary.scalar('learning rate', data=learning_rate, step=epoch)\n",
        "  return learning_rate\n",
        "    \n",
        "lr_callback = tf.keras.callbacks.LearningRateScheduler(lr_schedule)\n",
        "tensorboard = TensorBoard(log_dir='logs/{}'.format(time()))\n",
        "#Did not use save_best_only =TRue as it is buggy and crashes.\n",
        "checkpoint = tf.keras.callbacks.ModelCheckpoint(modelpath,monitor=\"val_acc\",verbose=1,mode=\"max\")\n",
        "callbacks_list=[checkpoint]\n"
      ],
      "execution_count": 0,
      "outputs": []
    },
    {
      "cell_type": "code",
      "metadata": {
        "id": "ZyGtBkWZt3mk",
        "colab_type": "code",
        "outputId": "c37308bc-7954-4d0c-fbb2-30e572366fcb",
        "colab": {
          "base_uri": "https://localhost:8080/",
          "height": 1000
        }
      },
      "source": [
        "# Create a TensorBoard instance with the path to the logs directory\n",
        "history=model.fit(X_train,Y_train,validation_data=(X_val,Y_val),epochs=EPOCHS,callbacks=callbacks_list)"
      ],
      "execution_count": 0,
      "outputs": [
        {
          "output_type": "stream",
          "text": [
            "Train on 16686 samples, validate on 1854 samples\n",
            "Epoch 1/30\n",
            "16672/16686 [============================>.] - ETA: 0s - loss: 2.6642 - acc: 0.3782\n",
            "Epoch 00001: saving model to /tmp/flower_data/models/final_model.hdf5\n",
            "16686/16686 [==============================] - 119s 7ms/sample - loss: 2.6637 - acc: 0.3783 - val_loss: 1.6926 - val_acc: 0.5647\n",
            "Epoch 2/30\n",
            "16672/16686 [============================>.] - ETA: 0s - loss: 1.2643 - acc: 0.6660\n",
            "Epoch 00002: saving model to /tmp/flower_data/models/final_model.hdf5\n",
            "16686/16686 [==============================] - 113s 7ms/sample - loss: 1.2638 - acc: 0.6661 - val_loss: 1.1587 - val_acc: 0.6877\n",
            "Epoch 3/30\n",
            "16672/16686 [============================>.] - ETA: 0s - loss: 0.9072 - acc: 0.7524\n",
            "Epoch 00003: saving model to /tmp/flower_data/models/final_model.hdf5\n",
            "16686/16686 [==============================] - 115s 7ms/sample - loss: 0.9072 - acc: 0.7524 - val_loss: 0.9767 - val_acc: 0.7114\n",
            "Epoch 4/30\n",
            "16672/16686 [============================>.] - ETA: 0s - loss: 0.7204 - acc: 0.7968\n",
            "Epoch 00004: saving model to /tmp/flower_data/models/final_model.hdf5\n",
            "16686/16686 [==============================] - 116s 7ms/sample - loss: 0.7202 - acc: 0.7969 - val_loss: 0.8769 - val_acc: 0.7573\n",
            "Epoch 5/30\n",
            "16672/16686 [============================>.] - ETA: 0s - loss: 0.5943 - acc: 0.8310\n",
            "Epoch 00005: saving model to /tmp/flower_data/models/final_model.hdf5\n",
            "16686/16686 [==============================] - 116s 7ms/sample - loss: 0.5945 - acc: 0.8309 - val_loss: 0.7167 - val_acc: 0.7999\n",
            "Epoch 6/30\n",
            "16672/16686 [============================>.] - ETA: 0s - loss: 0.5078 - acc: 0.8527\n",
            "Epoch 00006: saving model to /tmp/flower_data/models/final_model.hdf5\n",
            "16686/16686 [==============================] - 116s 7ms/sample - loss: 0.5078 - acc: 0.8528 - val_loss: 0.6533 - val_acc: 0.8058\n",
            "Epoch 7/30\n",
            "16672/16686 [============================>.] - ETA: 0s - loss: 0.4408 - acc: 0.8720\n",
            "Epoch 00007: saving model to /tmp/flower_data/models/final_model.hdf5\n",
            "16686/16686 [==============================] - 116s 7ms/sample - loss: 0.4406 - acc: 0.8721 - val_loss: 0.5661 - val_acc: 0.8398\n",
            "Epoch 8/30\n",
            "16672/16686 [============================>.] - ETA: 0s - loss: 0.3830 - acc: 0.8889\n",
            "Epoch 00008: saving model to /tmp/flower_data/models/final_model.hdf5\n",
            "16686/16686 [==============================] - 116s 7ms/sample - loss: 0.3830 - acc: 0.8889 - val_loss: 0.6532 - val_acc: 0.8177\n",
            "Epoch 9/30\n",
            "16672/16686 [============================>.] - ETA: 0s - loss: 0.3347 - acc: 0.8998\n",
            "Epoch 00009: saving model to /tmp/flower_data/models/final_model.hdf5\n",
            "16686/16686 [==============================] - 116s 7ms/sample - loss: 0.3347 - acc: 0.8998 - val_loss: 0.5455 - val_acc: 0.8495\n",
            "Epoch 10/30\n",
            "16672/16686 [============================>.] - ETA: 0s - loss: 0.2956 - acc: 0.9118\n",
            "Epoch 00010: saving model to /tmp/flower_data/models/final_model.hdf5\n",
            "16686/16686 [==============================] - 116s 7ms/sample - loss: 0.2956 - acc: 0.9118 - val_loss: 0.5824 - val_acc: 0.8430\n",
            "Epoch 11/30\n",
            "16672/16686 [============================>.] - ETA: 0s - loss: 0.2610 - acc: 0.9202\n",
            "Epoch 00011: saving model to /tmp/flower_data/models/final_model.hdf5\n",
            "16686/16686 [==============================] - 116s 7ms/sample - loss: 0.2610 - acc: 0.9201 - val_loss: 0.5789 - val_acc: 0.8333\n",
            "Epoch 12/30\n",
            "16672/16686 [============================>.] - ETA: 0s - loss: 0.2356 - acc: 0.9304\n",
            "Epoch 00012: saving model to /tmp/flower_data/models/final_model.hdf5\n",
            "16686/16686 [==============================] - 116s 7ms/sample - loss: 0.2354 - acc: 0.9304 - val_loss: 0.4169 - val_acc: 0.8808\n",
            "Epoch 13/30\n",
            "16672/16686 [============================>.] - ETA: 0s - loss: 0.2064 - acc: 0.9362\n",
            "Epoch 00013: saving model to /tmp/flower_data/models/final_model.hdf5\n",
            "16686/16686 [==============================] - 116s 7ms/sample - loss: 0.2064 - acc: 0.9362 - val_loss: 0.3978 - val_acc: 0.8819\n",
            "Epoch 14/30\n",
            "16672/16686 [============================>.] - ETA: 0s - loss: 0.1853 - acc: 0.9418\n",
            "Epoch 00014: saving model to /tmp/flower_data/models/final_model.hdf5\n",
            "16686/16686 [==============================] - 116s 7ms/sample - loss: 0.1855 - acc: 0.9417 - val_loss: 0.7304 - val_acc: 0.8128\n",
            "Epoch 15/30\n",
            "16672/16686 [============================>.] - ETA: 0s - loss: 0.1664 - acc: 0.9478\n",
            "Epoch 00015: saving model to /tmp/flower_data/models/final_model.hdf5\n",
            "16686/16686 [==============================] - 117s 7ms/sample - loss: 0.1666 - acc: 0.9478 - val_loss: 0.5189 - val_acc: 0.8506\n",
            "Epoch 16/30\n",
            "16672/16686 [============================>.] - ETA: 0s - loss: 0.1465 - acc: 0.9551\n",
            "Epoch 00016: saving model to /tmp/flower_data/models/final_model.hdf5\n",
            "16686/16686 [==============================] - 117s 7ms/sample - loss: 0.1465 - acc: 0.9552 - val_loss: 0.5215 - val_acc: 0.8506\n",
            "Epoch 17/30\n",
            "16672/16686 [============================>.] - ETA: 0s - loss: 0.1363 - acc: 0.9571\n",
            "Epoch 00017: saving model to /tmp/flower_data/models/final_model.hdf5\n",
            "16686/16686 [==============================] - 117s 7ms/sample - loss: 0.1362 - acc: 0.9571 - val_loss: 0.3232 - val_acc: 0.8997\n",
            "Epoch 18/30\n",
            "16672/16686 [============================>.] - ETA: 0s - loss: 0.1182 - acc: 0.9626\n",
            "Epoch 00018: saving model to /tmp/flower_data/models/final_model.hdf5\n",
            "16686/16686 [==============================] - 117s 7ms/sample - loss: 0.1182 - acc: 0.9626 - val_loss: 0.3473 - val_acc: 0.8954\n",
            "Epoch 19/30\n",
            "16672/16686 [============================>.] - ETA: 0s - loss: 0.1103 - acc: 0.9650\n",
            "Epoch 00019: saving model to /tmp/flower_data/models/final_model.hdf5\n",
            "16686/16686 [==============================] - 117s 7ms/sample - loss: 0.1103 - acc: 0.9651 - val_loss: 0.2984 - val_acc: 0.9105\n",
            "Epoch 20/30\n",
            "16672/16686 [============================>.] - ETA: 0s - loss: 0.0989 - acc: 0.9697\n",
            "Epoch 00020: saving model to /tmp/flower_data/models/final_model.hdf5\n",
            "16686/16686 [==============================] - 118s 7ms/sample - loss: 0.0995 - acc: 0.9694 - val_loss: 0.5831 - val_acc: 0.8457\n",
            "Epoch 21/30\n",
            "16672/16686 [============================>.] - ETA: 0s - loss: 0.0942 - acc: 0.9704\n",
            "Epoch 00021: saving model to /tmp/flower_data/models/final_model.hdf5\n",
            "16686/16686 [==============================] - 117s 7ms/sample - loss: 0.0942 - acc: 0.9704 - val_loss: 0.3168 - val_acc: 0.9072\n",
            "Epoch 22/30\n",
            "16672/16686 [============================>.] - ETA: 0s - loss: 0.0845 - acc: 0.9731\n",
            "Epoch 00022: saving model to /tmp/flower_data/models/final_model.hdf5\n",
            "16686/16686 [==============================] - 117s 7ms/sample - loss: 0.0849 - acc: 0.9731 - val_loss: 0.4237 - val_acc: 0.8770\n",
            "Epoch 23/30\n",
            "16672/16686 [============================>.] - ETA: 0s - loss: 0.0791 - acc: 0.9755\n",
            "Epoch 00023: saving model to /tmp/flower_data/models/final_model.hdf5\n",
            "16686/16686 [==============================] - 116s 7ms/sample - loss: 0.0790 - acc: 0.9755 - val_loss: 0.2549 - val_acc: 0.9245\n",
            "Epoch 24/30\n",
            "16672/16686 [============================>.] - ETA: 0s - loss: 0.0731 - acc: 0.9774\n",
            "Epoch 00024: saving model to /tmp/flower_data/models/final_model.hdf5\n",
            "16686/16686 [==============================] - 116s 7ms/sample - loss: 0.0731 - acc: 0.9775 - val_loss: 0.2349 - val_acc: 0.9364\n",
            "Epoch 25/30\n",
            "16672/16686 [============================>.] - ETA: 0s - loss: 0.0668 - acc: 0.9774\n",
            "Epoch 00025: saving model to /tmp/flower_data/models/final_model.hdf5\n",
            "16686/16686 [==============================] - 116s 7ms/sample - loss: 0.0668 - acc: 0.9775 - val_loss: 0.2755 - val_acc: 0.9229\n",
            "Epoch 26/30\n",
            "16672/16686 [============================>.] - ETA: 0s - loss: 0.0608 - acc: 0.9804\n",
            "Epoch 00026: saving model to /tmp/flower_data/models/final_model.hdf5\n",
            "16686/16686 [==============================] - 116s 7ms/sample - loss: 0.0609 - acc: 0.9804 - val_loss: 0.4502 - val_acc: 0.8840\n",
            "Epoch 27/30\n",
            "16672/16686 [============================>.] - ETA: 0s - loss: 0.0580 - acc: 0.9825\n",
            "Epoch 00027: saving model to /tmp/flower_data/models/final_model.hdf5\n",
            "16686/16686 [==============================] - 116s 7ms/sample - loss: 0.0580 - acc: 0.9825 - val_loss: 0.2964 - val_acc: 0.9094\n",
            "Epoch 28/30\n",
            "16672/16686 [============================>.] - ETA: 0s - loss: 0.0554 - acc: 0.9822\n",
            "Epoch 00028: saving model to /tmp/flower_data/models/final_model.hdf5\n",
            "16686/16686 [==============================] - 116s 7ms/sample - loss: 0.0555 - acc: 0.9822 - val_loss: 0.5466 - val_acc: 0.8630\n",
            "Epoch 29/30\n",
            "16672/16686 [============================>.] - ETA: 0s - loss: 0.0499 - acc: 0.9845\n",
            "Epoch 00029: saving model to /tmp/flower_data/models/final_model.hdf5\n",
            "16686/16686 [==============================] - 116s 7ms/sample - loss: 0.0498 - acc: 0.9845 - val_loss: 0.2782 - val_acc: 0.9202\n",
            "Epoch 30/30\n",
            "16672/16686 [============================>.] - ETA: 0s - loss: 0.0465 - acc: 0.9848\n",
            "Epoch 00030: saving model to /tmp/flower_data/models/final_model.hdf5\n",
            "16686/16686 [==============================] - 116s 7ms/sample - loss: 0.0465 - acc: 0.9848 - val_loss: 0.3285 - val_acc: 0.9094\n"
          ],
          "name": "stdout"
        }
      ]
    },
    {
      "cell_type": "markdown",
      "metadata": {
        "id": "tDUhQrGeI6qv",
        "colab_type": "text"
      },
      "source": [
        "**PLot Accuracy**"
      ]
    },
    {
      "cell_type": "code",
      "metadata": {
        "id": "P27ROKBeI4nT",
        "colab_type": "code",
        "outputId": "820eccae-6b7f-4fe5-85a6-09d54bb15693",
        "colab": {
          "base_uri": "https://localhost:8080/",
          "height": 545
        }
      },
      "source": [
        "import matplotlib.pyplot as plt\n",
        "acc = history.history['acc']\n",
        "val_acc = history.history['val_acc']\n",
        "loss = history.history['loss']\n",
        "val_loss = history.history['val_loss']\n",
        "\n",
        "epochs = range(len(acc))\n",
        "\n",
        "plt.plot(epochs, acc, 'r', label='Training accuracy')\n",
        "plt.plot(epochs, val_acc, 'b', label='Validation accuracy')\n",
        "plt.title('Training and validation accuracy')\n",
        "plt.legend()\n",
        "plt.figure()\n",
        "\n",
        "plt.plot(epochs, loss, 'r', label='Training Loss')\n",
        "plt.plot(epochs, val_loss, 'b', label='Validation Loss')\n",
        "plt.title('Training and validation loss')\n",
        "plt.legend()\n",
        "\n",
        "plt.show()"
      ],
      "execution_count": 0,
      "outputs": [
        {
          "output_type": "display_data",
          "data": {
            "image/png": "[encoded data removed]",
            "text/plain": [
              "<Figure size 432x288 with 1 Axes>"
            ]
          },
          "metadata": {
            "tags": []
          }
        },
        {
          "output_type": "display_data",
          "data": {
            "image/png": "[encoded data removed]",
            "text/plain": [
              "<Figure size 432x288 with 1 Axes>"
            ]
          },
          "metadata": {
            "tags": []
          }
        }
      ]
    },
    {
      "cell_type": "markdown",
      "metadata": {
        "id": "OT8UH-THuojk",
        "colab_type": "text"
      },
      "source": [
        "**FIne Tune the model for better accuracy**\n",
        "Uncomment the following code for fine tuning the VGG-16 model\n",
        "It has been commented out because aleady the model gives decent accuracy without fine tuning"
      ]
    },
    {
      "cell_type": "code",
      "metadata": {
        "id": "_JEGDMamu9AU",
        "colab_type": "code",
        "colab": {}
      },
      "source": [
        "# # we chose to train the top 2 inception blocks, i.e. we will freeze\n",
        "# # the first 249 layers and unfreeze the rest:\n",
        "# #We freeze first five layers of vgg16 net and train the rest\n",
        "# for layer in model.layers[:5]:\n",
        "#    layer.trainable = False\n",
        "# for layer in model.layers[5:]:\n",
        "#    layer.trainable = True\n",
        "    \n",
        "# # we need to recompile the model for these modifications to take effect\n",
        "# # we use RMSProp with a low learning rate\n",
        "# from tensorflow.keras.optimizers import RMSprop\n",
        "# model.compile(optimizer=RMSprop(lr=0.0001), loss='categorical_crossentropy',metrics=['accuracy'])"
      ],
      "execution_count": 0,
      "outputs": []
    },
    {
      "cell_type": "markdown",
      "metadata": {
        "id": "9-YHWf_Rwrsm",
        "colab_type": "text"
      },
      "source": [
        "**Train after fine tuning**"
      ]
    },
    {
      "cell_type": "code",
      "metadata": {
        "id": "50w0buGxwbJ8",
        "colab_type": "code",
        "colab": {}
      },
      "source": [
        "# history=model.fit(X_train,Y_train,validation_data=(X_val,Y_val),epochs=60,callbacks=callbacks_list)"
      ],
      "execution_count": 0,
      "outputs": []
    },
    {
      "cell_type": "markdown",
      "metadata": {
        "id": "gaTTXQzRs5qf",
        "colab_type": "text"
      },
      "source": [
        "**No Transfer learning Approach** \n",
        "Tested accuracy: 75%\n",
        "This a CNN model with % convolution and 2 FC Layers with around an accuracy of 75%. Comment the Transfer learning part and incomment the cell below fpor training the same"
      ]
    },
    {
      "cell_type": "code",
      "metadata": {
        "id": "gTZ-bu8CAaWh",
        "colab_type": "code",
        "colab": {}
      },
      "source": [
        "# model = tf.keras.models.Sequential([\n",
        "#     # This is the first convolution\n",
        "#     tf.keras.layers.Conv2D(64, (3,3), activation='relu', input_shape=(IMG_WIDTH, IMG_HEIGHT, CHANNELS)),\n",
        "#     tf.keras.layers.MaxPooling2D(2, 2),\n",
        "# #     # The second convolution\n",
        "#     tf.keras.layers.Conv2D(32, (3,3), activation='relu'),\n",
        "#     tf.keras.layers.MaxPooling2D(2,2),\n",
        "# #     # The third convolution\n",
        "#     tf.keras.layers.Conv2D(64, (3,3), activation='relu'),\n",
        "#     tf.keras.layers.MaxPooling2D(2,2),\n",
        "# #     # The fourth convolution\n",
        "#     tf.keras.layers.Conv2D(64, (3,3), activation='relu'),\n",
        "#     tf.keras.layers.MaxPooling2D(2,2),\n",
        "# #     # The fifth convolution\n",
        "#     tf.keras.layers.Conv2D(64, (3,3), activation='relu'),\n",
        "#     tf.keras.layers.MaxPooling2D(2,2),\n",
        "#     # Flatten the results to feed\n",
        "#     tf.keras.layers.Flatten(),\n",
        "#     # 512 neuron hidden layer\n",
        "#     tf.keras.layers.Dense(512, activation='relu'),\n",
        "#     tf.keras.layers.Dropout(0.2),\n",
        "\n",
        "#     tf.keras.layers.Dense(256, activation='relu'),\n",
        "#      tf.keras.layers.Dropout(0.2),\n",
        "#     tf.keras.layers.Dense(102, activation='softmax')\n",
        "# ])"
      ],
      "execution_count": 0,
      "outputs": []
    },
    {
      "cell_type": "code",
      "metadata": {
        "id": "G82gBTWOA5gP",
        "colab_type": "code",
        "colab": {}
      },
      "source": [
        "# model.summary()"
      ],
      "execution_count": 0,
      "outputs": []
    },
    {
      "cell_type": "markdown",
      "metadata": {
        "id": "KQ6D2g6Nw5oj",
        "colab_type": "text"
      },
      "source": [
        "**Train Model**"
      ]
    },
    {
      "cell_type": "code",
      "metadata": {
        "id": "AN8SmiO9BGg7",
        "colab_type": "code",
        "colab": {}
      },
      "source": [
        "# model.compile(optimizer='adam',loss='categorical_crossentropy', metrics=['accuracy'])\n",
        "# history=model.fit(X_train,Y_train,validation_data=(X_val,Y_val),epochs=40)"
      ],
      "execution_count": 0,
      "outputs": []
    },
    {
      "cell_type": "markdown",
      "metadata": {
        "id": "05Pv4yBbuKd6",
        "colab_type": "text"
      },
      "source": [
        "**Visualize Training/ validation losses and accuracies**"
      ]
    },
    {
      "cell_type": "code",
      "metadata": {
        "id": "FlisoKNAG1B4",
        "colab_type": "code",
        "colab": {}
      },
      "source": [
        "# import matplotlib.pyplot as plt\n",
        "# acc = history.history['acc']\n",
        "# val_acc = history.history['val_acc']\n",
        "# loss = history.history['loss']\n",
        "# val_loss = history.history['val_loss']\n",
        "\n",
        "# epochs = range(len(acc))\n",
        "\n",
        "# plt.plot(epochs, acc, 'r', label='Training accuracy')\n",
        "# plt.plot(epochs, val_acc, 'b', label='Validation accuracy')\n",
        "# plt.title('Training and validation accuracy')\n",
        "# plt.legend()\n",
        "# plt.figure()\n",
        "\n",
        "# plt.plot(epochs, loss, 'r', label='Training Loss')\n",
        "# plt.plot(epochs, val_loss, 'b', label='Validation Loss')\n",
        "# plt.title('Training and validation loss')\n",
        "# plt.legend()\n",
        "\n",
        "# plt.show()"
      ],
      "execution_count": 0,
      "outputs": []
    },
    {
      "cell_type": "markdown",
      "metadata": {
        "id": "10v3uO1gsXJQ",
        "colab_type": "text"
      },
      "source": [
        "**Test model on DATA**"
      ]
    },
    {
      "cell_type": "markdown",
      "metadata": {
        "id": "q3RBLG49xCMN",
        "colab_type": "text"
      },
      "source": [
        "Relevant functions for testing"
      ]
    },
    {
      "cell_type": "code",
      "metadata": {
        "id": "PM6rZmcnOM4F",
        "colab_type": "code",
        "colab": {}
      },
      "source": [
        "#Create test data from images\n",
        "def load_test_image_data(filepaths):\n",
        "  N_total = len(filepaths)\n",
        "  X = np.zeros((N_total,) + INPUT_SHAPE)\n",
        "  for i in range(len(filepaths)):\n",
        "    img=cv2.imread(filepaths[i])\n",
        "    img = cv2.resize(img,(IMG_WIDTH,IMG_HEIGHT))\n",
        "    img = img *1.0/255\n",
        "    X[i,:,:,:] = img\n",
        "  return X\n",
        "\n",
        "def predict_test_labels(filepaths):\n",
        "  X=load_test_image_data(filepaths)\n",
        "  model = tf.keras.models.load_model(modelpath)\n",
        "  Y_prob=model.predict(X)\n",
        "  Y=np.argmax(Y_prob,axis=1)\n",
        "  #realign labels to 1-102(as in test.csv) instead of 0-101 (as given by model.predict)\n",
        "  Y=Y+1\n",
        "  return Y\n",
        "\n",
        "def create_file_pathfrom_csv(test_csv):\n",
        "  test_data = pd.read_csv(test_csv)\n",
        "  test_fnames = test_data['image_id']\n",
        "  test_fnames.head()\n",
        "  test_filepaths = create_filepaths(test_dir,test_fnames)\n",
        "  test_filepaths\n",
        "  test_filepaths[0]\n",
        "  return test_filepaths\n",
        "\n",
        "def create_submission_csv(submission_csv,label_vector):\n",
        "    submission_t_csv =  os.path.join(data_dir, 'sample_submission_test.csv')\n",
        "    df=pd.read_csv(submission_csv)\n",
        "    ids=df['image_id']\n",
        "    ids= np.asarray(ids)\n",
        "    ids= ids.reshape(ids.shape[0],1)\n",
        "    label_vector=label_vector.reshape(label_vector.shape[0],1)\n",
        "    csv_data = np.concatenate((ids,label_vector),axis=1)\n",
        "    print ('csv_shape is:',csv_data.shape)\n",
        "    np.savetxt(submission_csv,csv_data,delimiter=',',fmt='%d')"
      ],
      "execution_count": 0,
      "outputs": []
    },
    {
      "cell_type": "markdown",
      "metadata": {
        "id": "Ag8mH-z7xXQh",
        "colab_type": "text"
      },
      "source": [
        "**Create Testing Data**"
      ]
    },
    {
      "cell_type": "code",
      "metadata": {
        "id": "z1LBYUZOJDfu",
        "colab_type": "code",
        "colab": {}
      },
      "source": [
        "X_train=Y_train=X_val=Y_val=[]"
      ],
      "execution_count": 0,
      "outputs": []
    },
    {
      "cell_type": "code",
      "metadata": {
        "id": "MkOKpSeIS8JN",
        "colab_type": "code",
        "colab": {}
      },
      "source": [
        "\n",
        "test_filepaths = create_file_pathfrom_csv(test_csv)\n"
      ],
      "execution_count": 0,
      "outputs": []
    },
    {
      "cell_type": "code",
      "metadata": {
        "id": "O_J5tG3gTcD4",
        "colab_type": "code",
        "colab": {}
      },
      "source": [
        "Y = predict_test_labels(test_filepaths)\n"
      ],
      "execution_count": 0,
      "outputs": []
    },
    {
      "cell_type": "markdown",
      "metadata": {
        "id": "sXAb_epda5-E",
        "colab_type": "text"
      },
      "source": [
        "**Save test  results to submission_test.csv**"
      ]
    },
    {
      "cell_type": "code",
      "metadata": {
        "id": "1yFcGOm8qzDY",
        "colab_type": "code",
        "outputId": "12a5b14f-b004-4f9c-e01e-6577f870bc62",
        "colab": {
          "base_uri": "https://localhost:8080/",
          "height": 34
        }
      },
      "source": [
        "create_submission_csv(submission_csv,Y)"
      ],
      "execution_count": 0,
      "outputs": [
        {
          "output_type": "stream",
          "text": [
            "csv_shape is: (2009, 2)\n"
          ],
          "name": "stdout"
        }
      ]
    },
    {
      "cell_type": "code",
      "metadata": {
        "id": "moExe_WkfqYB",
        "colab_type": "code",
        "colab": {}
      },
      "source": [
        "# from google.colab import drive\n",
        "# drive.mount('/content/drive')"
      ],
      "execution_count": 0,
      "outputs": []
    },
    {
      "cell_type": "code",
      "metadata": {
        "id": "duOtb2FzdNIR",
        "colab_type": "code",
        "colab": {}
      },
      "source": [
        ""
      ],
      "execution_count": 0,
      "outputs": []
    }
  ]
}